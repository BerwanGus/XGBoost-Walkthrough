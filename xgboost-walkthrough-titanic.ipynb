{
 "cells": [
  {
   "cell_type": "code",
   "execution_count": 1,
   "id": "f448f9e3",
   "metadata": {
    "_cell_guid": "b1076dfc-b9ad-4769-8c92-a6c4dae69d19",
    "_uuid": "8f2839f25d086af736a60e9eeb907d3b93b6e0e5",
    "execution": {
     "iopub.execute_input": "2022-03-30T13:25:54.888776Z",
     "iopub.status.busy": "2022-03-30T13:25:54.887079Z",
     "iopub.status.idle": "2022-03-30T13:25:54.899903Z",
     "shell.execute_reply": "2022-03-30T13:25:54.900631Z",
     "shell.execute_reply.started": "2022-03-25T11:59:53.906506Z"
    },
    "papermill": {
     "duration": 0.039443,
     "end_time": "2022-03-30T13:25:54.900927",
     "exception": false,
     "start_time": "2022-03-30T13:25:54.861484",
     "status": "completed"
    },
    "tags": []
   },
   "outputs": [
    {
     "name": "stdout",
     "output_type": "stream",
     "text": [
      "/kaggle/input/titanic/train.csv\n",
      "/kaggle/input/titanic/test.csv\n",
      "/kaggle/input/titanic/gender_submission.csv\n"
     ]
    }
   ],
   "source": [
    "# This Python 3 environment comes with many helpful analytics libraries installed\n",
    "# It is defined by the kaggle/python Docker image: https://github.com/kaggle/docker-python\n",
    "# For example, here's several helpful packages to load\n",
    "\n",
    "import numpy as np # linear algebra\n",
    "import pandas as pd # data processing, CSV file I/O (e.g. pd.read_csv)\n",
    "\n",
    "# Input data files are available in the read-only \"../input/\" directory\n",
    "# For example, running this (by clicking run or pressing Shift+Enter) will list all files under the input directory\n",
    "\n",
    "import os\n",
    "for dirname, _, filenames in os.walk('/kaggle/input'):\n",
    "    for filename in filenames:\n",
    "        print(os.path.join(dirname, filename))\n",
    "\n",
    "# You can write up to 20GB to the current directory (/kaggle/working/) that gets preserved as output when you create a version using \"Save & Run All\" \n",
    "# You can also write temporary files to /kaggle/temp/, but they won't be saved outside of the current session"
   ]
  },
  {
   "cell_type": "markdown",
   "id": "aedfad10",
   "metadata": {
    "papermill": {
     "duration": 0.020258,
     "end_time": "2022-03-30T13:25:54.944745",
     "exception": false,
     "start_time": "2022-03-30T13:25:54.924487",
     "status": "completed"
    },
    "tags": []
   },
   "source": [
    "## Setting up data"
   ]
  },
  {
   "cell_type": "code",
   "execution_count": 2,
   "id": "2483da43",
   "metadata": {
    "execution": {
     "iopub.execute_input": "2022-03-30T13:25:54.993772Z",
     "iopub.status.busy": "2022-03-30T13:25:54.993236Z",
     "iopub.status.idle": "2022-03-30T13:25:56.012768Z",
     "shell.execute_reply": "2022-03-30T13:25:56.013178Z",
     "shell.execute_reply.started": "2022-03-25T13:20:32.57633Z"
    },
    "papermill": {
     "duration": 1.046914,
     "end_time": "2022-03-30T13:25:56.013329",
     "exception": false,
     "start_time": "2022-03-30T13:25:54.966415",
     "status": "completed"
    },
    "tags": []
   },
   "outputs": [
    {
     "name": "stdout",
     "output_type": "stream",
     "text": [
      "Amount of rows for training set: 891\n"
     ]
    }
   ],
   "source": [
    "# Set up data sets\n",
    "from sklearn.model_selection import train_test_split\n",
    "\n",
    "X_test_full = pd.read_csv('../input/titanic/test.csv', index_col='PassengerId')\n",
    "X_full = pd.read_csv('../input/titanic/train.csv', index_col='PassengerId')\n",
    "X_full.dropna(axis=0, subset=['Survived'])\n",
    "\n",
    "y = X_full.Survived\n",
    "X_full.drop(['Survived'], axis=1, inplace=True)\n",
    "\n",
    "feature_columns = ['Pclass', 'Sex', 'Age', 'SibSp', 'Parch']\n",
    "X = X_full[feature_columns]\n",
    "X_test = X_test_full[feature_columns]\n",
    "\n",
    "X_train, X_val, y_train, y_val = train_test_split(X, y, test_size=0.2)\n",
    "\n",
    "print('Amount of rows for training set: %d' %(X.shape[0]))"
   ]
  },
  {
   "cell_type": "code",
   "execution_count": 3,
   "id": "6df335b8",
   "metadata": {
    "execution": {
     "iopub.execute_input": "2022-03-30T13:25:56.061519Z",
     "iopub.status.busy": "2022-03-30T13:25:56.060860Z",
     "iopub.status.idle": "2022-03-30T13:25:56.073788Z",
     "shell.execute_reply": "2022-03-30T13:25:56.074237Z",
     "shell.execute_reply.started": "2022-03-25T12:27:54.166079Z"
    },
    "papermill": {
     "duration": 0.039964,
     "end_time": "2022-03-30T13:25:56.074386",
     "exception": false,
     "start_time": "2022-03-30T13:25:56.034422",
     "status": "completed"
    },
    "tags": []
   },
   "outputs": [
    {
     "data": {
      "text/html": [
       "<div>\n",
       "<style scoped>\n",
       "    .dataframe tbody tr th:only-of-type {\n",
       "        vertical-align: middle;\n",
       "    }\n",
       "\n",
       "    .dataframe tbody tr th {\n",
       "        vertical-align: top;\n",
       "    }\n",
       "\n",
       "    .dataframe thead th {\n",
       "        text-align: right;\n",
       "    }\n",
       "</style>\n",
       "<table border=\"1\" class=\"dataframe\">\n",
       "  <thead>\n",
       "    <tr style=\"text-align: right;\">\n",
       "      <th></th>\n",
       "      <th>Pclass</th>\n",
       "      <th>Sex</th>\n",
       "      <th>Age</th>\n",
       "      <th>SibSp</th>\n",
       "      <th>Parch</th>\n",
       "    </tr>\n",
       "    <tr>\n",
       "      <th>PassengerId</th>\n",
       "      <th></th>\n",
       "      <th></th>\n",
       "      <th></th>\n",
       "      <th></th>\n",
       "      <th></th>\n",
       "    </tr>\n",
       "  </thead>\n",
       "  <tbody>\n",
       "    <tr>\n",
       "      <th>1</th>\n",
       "      <td>3</td>\n",
       "      <td>male</td>\n",
       "      <td>22.0</td>\n",
       "      <td>1</td>\n",
       "      <td>0</td>\n",
       "    </tr>\n",
       "    <tr>\n",
       "      <th>2</th>\n",
       "      <td>1</td>\n",
       "      <td>female</td>\n",
       "      <td>38.0</td>\n",
       "      <td>1</td>\n",
       "      <td>0</td>\n",
       "    </tr>\n",
       "    <tr>\n",
       "      <th>3</th>\n",
       "      <td>3</td>\n",
       "      <td>female</td>\n",
       "      <td>26.0</td>\n",
       "      <td>0</td>\n",
       "      <td>0</td>\n",
       "    </tr>\n",
       "    <tr>\n",
       "      <th>4</th>\n",
       "      <td>1</td>\n",
       "      <td>female</td>\n",
       "      <td>35.0</td>\n",
       "      <td>1</td>\n",
       "      <td>0</td>\n",
       "    </tr>\n",
       "    <tr>\n",
       "      <th>5</th>\n",
       "      <td>3</td>\n",
       "      <td>male</td>\n",
       "      <td>35.0</td>\n",
       "      <td>0</td>\n",
       "      <td>0</td>\n",
       "    </tr>\n",
       "  </tbody>\n",
       "</table>\n",
       "</div>"
      ],
      "text/plain": [
       "             Pclass     Sex   Age  SibSp  Parch\n",
       "PassengerId                                    \n",
       "1                 3    male  22.0      1      0\n",
       "2                 1  female  38.0      1      0\n",
       "3                 3  female  26.0      0      0\n",
       "4                 1  female  35.0      1      0\n",
       "5                 3    male  35.0      0      0"
      ]
     },
     "execution_count": 3,
     "metadata": {},
     "output_type": "execute_result"
    }
   ],
   "source": [
    "X.head()"
   ]
  },
  {
   "cell_type": "markdown",
   "id": "5b5be821",
   "metadata": {
    "papermill": {
     "duration": 0.021356,
     "end_time": "2022-03-30T13:25:56.117004",
     "exception": false,
     "start_time": "2022-03-30T13:25:56.095648",
     "status": "completed"
    },
    "tags": []
   },
   "source": [
    "## Preprocessing"
   ]
  },
  {
   "cell_type": "code",
   "execution_count": 4,
   "id": "57ea1719",
   "metadata": {
    "execution": {
     "iopub.execute_input": "2022-03-30T13:25:56.168266Z",
     "iopub.status.busy": "2022-03-30T13:25:56.167672Z",
     "iopub.status.idle": "2022-03-30T13:25:56.173324Z",
     "shell.execute_reply": "2022-03-30T13:25:56.172861Z",
     "shell.execute_reply.started": "2022-03-25T12:27:57.473735Z"
    },
    "papermill": {
     "duration": 0.034749,
     "end_time": "2022-03-30T13:25:56.173445",
     "exception": false,
     "start_time": "2022-03-30T13:25:56.138696",
     "status": "completed"
    },
    "tags": []
   },
   "outputs": [
    {
     "name": "stdout",
     "output_type": "stream",
     "text": [
      "Amount of missing values in each column: \n"
     ]
    },
    {
     "data": {
      "text/plain": [
       "Pclass      0\n",
       "Sex         0\n",
       "Age       177\n",
       "SibSp       0\n",
       "Parch       0\n",
       "dtype: int64"
      ]
     },
     "execution_count": 4,
     "metadata": {},
     "output_type": "execute_result"
    }
   ],
   "source": [
    "print('Amount of missing values in each column: ')\n",
    "X.isnull().sum()"
   ]
  },
  {
   "cell_type": "markdown",
   "id": "ab994ef1",
   "metadata": {
    "papermill": {
     "duration": 0.02178,
     "end_time": "2022-03-30T13:25:56.217286",
     "exception": false,
     "start_time": "2022-03-30T13:25:56.195506",
     "status": "completed"
    },
    "tags": []
   },
   "source": [
    "<font size=3>There are missing values for the Age feature. A bit of data analysis is necessary in order to fill in those empty values in a meaningful way. **Reminder: we should use the training set when deriving features from data to avoid contamination.**"
   ]
  },
  {
   "cell_type": "code",
   "execution_count": 5,
   "id": "a33db339",
   "metadata": {
    "execution": {
     "iopub.execute_input": "2022-03-30T13:25:56.271760Z",
     "iopub.status.busy": "2022-03-30T13:25:56.271115Z",
     "iopub.status.idle": "2022-03-30T13:25:57.339241Z",
     "shell.execute_reply": "2022-03-30T13:25:57.339654Z",
     "shell.execute_reply.started": "2022-03-25T12:27:59.789017Z"
    },
    "papermill": {
     "duration": 1.099738,
     "end_time": "2022-03-30T13:25:57.339797",
     "exception": false,
     "start_time": "2022-03-30T13:25:56.240059",
     "status": "completed"
    },
    "tags": []
   },
   "outputs": [
    {
     "data": {
      "image/png": "[encoded data removed]",
      "text/plain": [
       "<Figure size 1296x576 with 4 Axes>"
      ]
     },
     "metadata": {},
     "output_type": "display_data"
    }
   ],
   "source": [
    "import seaborn as sns\n",
    "import matplotlib.pyplot as plt\n",
    "from matplotlib import cm\n",
    "\n",
    "sns.set_theme(style='darkgrid')\n",
    "\n",
    "fig, ax = plt.subplots(2, 2, figsize=(18, 8))\n",
    "ax[0,0].scatter(x=X_train.Age, y=X_train.SibSp, alpha=0.75, c=X_train.SibSp,  cmap=cm.get_cmap('summer'))\n",
    "ax[0,0].set_title('Siblings / spouses per age')\n",
    "ax[0,1].scatter(x=X_train.Age, y=X_train.Parch, c=X_train.Parch, cmap=cm.get_cmap('viridis'))\n",
    "ax[0,1].set_title('Parents / children per age')\n",
    "\n",
    "x1 = X_train[X_train.Age.isnull()]\n",
    "ax[1,0].scatter(range(len(x1)), x1.SibSp, alpha=0.75, c=x1.SibSp,  cmap=cm.get_cmap('summer'))\n",
    "ax[1,0].set_title('Siblings / spouses for each missing age person')\n",
    "ax[1,1].scatter(range(len(x1)), x1.Parch, c=x1.Parch, cmap=cm.get_cmap('viridis'))\n",
    "ax[1,1].set_title('Parents / children for each missing age person')\n",
    "\n",
    "plt.show()"
   ]
  },
  {
   "cell_type": "markdown",
   "id": "3e22a473",
   "metadata": {
    "papermill": {
     "duration": 0.025741,
     "end_time": "2022-03-30T13:25:57.390805",
     "exception": false,
     "start_time": "2022-03-30T13:25:57.365064",
     "status": "completed"
    },
    "tags": []
   },
   "source": [
    "<font size=3>The vast majority of people with missing input for the Age column have no siblings/spouses or parents/children, therefore it makes sense to use the average age within that group (people with no siblings/spouses or parents/children) as an estimation for the age values."
   ]
  },
  {
   "cell_type": "code",
   "execution_count": 6,
   "id": "cc4eb8a5",
   "metadata": {
    "execution": {
     "iopub.execute_input": "2022-03-30T13:25:57.450025Z",
     "iopub.status.busy": "2022-03-30T13:25:57.449231Z",
     "iopub.status.idle": "2022-03-30T13:25:57.581388Z",
     "shell.execute_reply": "2022-03-30T13:25:57.581785Z",
     "shell.execute_reply.started": "2022-03-25T12:28:03.012862Z"
    },
    "papermill": {
     "duration": 0.165499,
     "end_time": "2022-03-30T13:25:57.581927",
     "exception": false,
     "start_time": "2022-03-30T13:25:57.416428",
     "status": "completed"
    },
    "tags": []
   },
   "outputs": [
    {
     "name": "stdout",
     "output_type": "stream",
     "text": [
      "Amount of missing values in each column for all data after preprocessing: \n"
     ]
    },
    {
     "data": {
      "text/plain": [
       "0    0\n",
       "1    0\n",
       "2    0\n",
       "3    0\n",
       "4    0\n",
       "5    0\n",
       "dtype: int64"
      ]
     },
     "execution_count": 6,
     "metadata": {},
     "output_type": "execute_result"
    }
   ],
   "source": [
    "from sklearn.pipeline import Pipeline\n",
    "from sklearn.compose import ColumnTransformer, make_column_selector\n",
    "from sklearn.impute import SimpleImputer\n",
    "from sklearn.preprocessing import OneHotEncoder, OrdinalEncoder\n",
    "\n",
    "avg_Age = X_train[(X_train.SibSp + X_train.Parch) == 0].Age.mean()\n",
    "\n",
    "numerical_transformer = SimpleImputer(strategy='constant', fill_value=avg_Age)\n",
    "\n",
    "categorical_transformer = Pipeline(steps=[\n",
    "    ('onehot', OneHotEncoder()),\n",
    "    ('imputer', SimpleImputer(strategy='most_frequent'))\n",
    "])\n",
    "\n",
    "preprocessor = ColumnTransformer(transformers=[\n",
    "    ('num', numerical_transformer, make_column_selector(dtype_include=[np.integer, np.floating])),\n",
    "    ('cat', categorical_transformer,  make_column_selector(dtype_include=object))\n",
    "])\n",
    "\n",
    "print('Amount of missing values in each column for all data after preprocessing: ')\n",
    "pd.DataFrame(preprocessor.fit_transform(X_train)).isnull().sum()"
   ]
  },
  {
   "cell_type": "markdown",
   "id": "a757e7a5",
   "metadata": {
    "papermill": {
     "duration": 0.024539,
     "end_time": "2022-03-30T13:25:57.631276",
     "exception": false,
     "start_time": "2022-03-30T13:25:57.606737",
     "status": "completed"
    },
    "tags": []
   },
   "source": [
    "## Hypertuning"
   ]
  },
  {
   "cell_type": "markdown",
   "id": "14e72e08",
   "metadata": {
    "papermill": {
     "duration": 0.024688,
     "end_time": "2022-03-30T13:25:57.681079",
     "exception": false,
     "start_time": "2022-03-30T13:25:57.656391",
     "status": "completed"
    },
    "tags": []
   },
   "source": [
    "<font size=3>Now that we have our transformers which can handle both missing and categorical data, we can use them during **cross validation** and try to find the best set of parameters for our model.\n",
    "    \n",
    "<font size=3>Since we are dealing with a classification problem, the **XGBoost Classifier** (eXtreme Gradient Boosting) will be chosen as the model. It works by assigning scores to each leaf as it adds trees (CARTs) to the ensemble model. Then, the trees are run based on the input parameters and scores are calculated, so they can be summed to obtain the prediction result."
   ]
  },
  {
   "cell_type": "markdown",
   "id": "e07c5496",
   "metadata": {
    "papermill": {
     "duration": 0.024553,
     "end_time": "2022-03-30T13:25:57.730607",
     "exception": false,
     "start_time": "2022-03-30T13:25:57.706054",
     "status": "completed"
    },
    "tags": []
   },
   "source": [
    "<div style=\"width:100%; text-align:center\">\n",
    "<img align=middle src=https://www.researchgate.net/profile/Li-Mingtao-2/publication/335483097/figure/fig3/AS:934217085100032@1599746118459/A-general-architecture-of-XGBoost.ppm width=500px>"
   ]
  },
  {
   "cell_type": "markdown",
   "id": "028b8e3c",
   "metadata": {
    "papermill": {
     "duration": 0.024454,
     "end_time": "2022-03-30T13:25:57.779939",
     "exception": false,
     "start_time": "2022-03-30T13:25:57.755485",
     "status": "completed"
    },
    "tags": []
   },
   "source": [
    "<font size=3>We also have to make a custom function to implement cross validation if we want to make use of XGBoost's **early_stopping_rounds**, since we need access to the validation splits during the cross validation process."
   ]
  },
  {
   "cell_type": "code",
   "execution_count": 7,
   "id": "97ebe704",
   "metadata": {
    "execution": {
     "iopub.execute_input": "2022-03-30T13:25:57.845582Z",
     "iopub.status.busy": "2022-03-30T13:25:57.844787Z",
     "iopub.status.idle": "2022-03-30T13:25:57.915152Z",
     "shell.execute_reply": "2022-03-30T13:25:57.914633Z",
     "shell.execute_reply.started": "2022-03-25T13:11:15.77682Z"
    },
    "papermill": {
     "duration": 0.109271,
     "end_time": "2022-03-30T13:25:57.915281",
     "exception": false,
     "start_time": "2022-03-30T13:25:57.806010",
     "status": "completed"
    },
    "tags": []
   },
   "outputs": [],
   "source": [
    "import numpy as np\n",
    "from xgboost import XGBClassifier\n",
    "from sklearn.model_selection import StratifiedKFold, ParameterGrid\n",
    "from sklearn.metrics import accuracy_score, roc_auc_score\n",
    "\n",
    "def XGB_CVGridSearch(estimator, X, y, estimator_params, n_splits=5, verbose=0, vectorize_output=False):\n",
    "    # Searches for the best combination of given parameters for estimator\n",
    "    \n",
    "    skf = StratifiedKFold(n_splits=n_splits)\n",
    "    best_params = None\n",
    "    best_score = 0\n",
    "    for params_permut in ParameterGrid(estimator_params):\n",
    "        val_scores = np.empty(skf.n_splits)\n",
    "        train_scores = val_scores.copy()\n",
    "        for i, (train_index, val_index) in enumerate(skf.split(X, y)):\n",
    "            X_train, y_train = X.iloc[train_index], y.iloc[train_index]\n",
    "            X_val, y_val = X.iloc[val_index], y.iloc[val_index]\n",
    "            estimator.set_params(**params_permut)\n",
    "            estimator.fit(X_train, y_train,\n",
    "                        model__eval_set=[(preprocessor.transform(X_val), y_val)],\n",
    "                        model__early_stopping_rounds=10,\n",
    "                        model__verbose=0)\n",
    "            val_scores[i] = estimator.score(X_val, y_val)\n",
    "            train_scores[i] = estimator.score(X_train, y_train)\n",
    "        val_score, train_score = val_scores.mean(), train_scores.mean()\n",
    "        if verbose >= 1:\n",
    "            print(\"Train score: %f | Validation score: %f\" %(train_score, val_score))\n",
    "            if verbose >= 2:\n",
    "                print('Best iteration: ', estimator.get_params()['model'].get_booster().best_ntree_limit)\n",
    "                print('Params: ', params_permut)\n",
    "        if val_score > best_score:     \n",
    "            best_params = params_permut\n",
    "            best_params['model__n_estimators'] = estimator.get_params()['model'].get_booster().best_ntree_limit\n",
    "            best_score = val_score\n",
    "            \n",
    "    preds = estimator.predict(X_val)\n",
    "    probas = estimator.predict_proba(X_val)[:, 1]\n",
    "    accuracy = accuracy_score(y_val, preds)\n",
    "    roc = roc_auc_score(y_val, probas)\n",
    "    print(\"Accuracy: \", accuracy, \"ROC AUC: \", roc, \"\\nBest score: \", best_score, \", with parameters: \", best_params)\n",
    "    \n",
    "    if vectorize_output == True:\n",
    "        return {key:[value] for key, value in best_params.items()}\n",
    "    else:\n",
    "        return best_params"
   ]
  },
  {
   "cell_type": "markdown",
   "id": "6f9c8bf4",
   "metadata": {
    "papermill": {
     "duration": 0.025161,
     "end_time": "2022-03-30T13:25:57.966524",
     "exception": false,
     "start_time": "2022-03-30T13:25:57.941363",
     "status": "completed"
    },
    "tags": []
   },
   "source": [
    "<font size=3>Here comes the **grid search** process, where we try all possible combinations of parameters across our grid. We will be using our custom cross validation function in order to tune the model's **hyperparameters**."
   ]
  },
  {
   "cell_type": "code",
   "execution_count": 8,
   "id": "1a6d45ed",
   "metadata": {
    "execution": {
     "iopub.execute_input": "2022-03-30T13:25:58.024569Z",
     "iopub.status.busy": "2022-03-30T13:25:58.023711Z",
     "iopub.status.idle": "2022-03-30T13:26:02.777422Z",
     "shell.execute_reply": "2022-03-30T13:26:02.778324Z",
     "shell.execute_reply.started": "2022-03-25T13:14:37.7833Z"
    },
    "papermill": {
     "duration": 4.786534,
     "end_time": "2022-03-30T13:26:02.778525",
     "exception": false,
     "start_time": "2022-03-30T13:25:57.991991",
     "status": "completed"
    },
    "tags": []
   },
   "outputs": [
    {
     "name": "stdout",
     "output_type": "stream",
     "text": [
      "Train score: 0.864466 | Validation score: 0.829971\n",
      "Train score: 0.882728 | Validation score: 0.834256\n",
      "Train score: 0.882723 | Validation score: 0.844076\n",
      "Train score: 0.883777 | Validation score: 0.837053\n",
      "Accuracy:  0.8309859154929577 ROC AUC:  0.8704284221525602 \n",
      "Best score:  0.8440756426671919 , with parameters:  {'model__learning_rate': 0.1, 'model__n_estimators': 27}\n"
     ]
    }
   ],
   "source": [
    "from sklearn.model_selection import cross_val_score\n",
    "\n",
    "my_pipeline = Pipeline(steps=[\n",
    "    ('preprocessor', preprocessor),\n",
    "    ('model', XGBClassifier(use_label_encoder=False,\n",
    "                            objective='binary:logistic',\n",
    "                            eval_metric='logloss'))\n",
    "])\n",
    "\n",
    "grid_params0 = {\n",
    "    'model__n_estimators': [1000],\n",
    "    'model__learning_rate': [3, 1, 0.1, 0.01],\n",
    "}\n",
    "\n",
    "grid_params0 = XGB_CVGridSearch(my_pipeline, X_train, y_train, grid_params0, verbose=1, vectorize_output=True)"
   ]
  },
  {
   "cell_type": "code",
   "execution_count": 9,
   "id": "0e259e70",
   "metadata": {
    "execution": {
     "iopub.execute_input": "2022-03-30T13:26:02.843443Z",
     "iopub.status.busy": "2022-03-30T13:26:02.842588Z",
     "iopub.status.idle": "2022-03-30T13:26:18.294983Z",
     "shell.execute_reply": "2022-03-30T13:26:18.296469Z",
     "shell.execute_reply.started": "2022-03-25T13:15:11.004778Z"
    },
    "papermill": {
     "duration": 15.488917,
     "end_time": "2022-03-30T13:26:18.296703",
     "exception": false,
     "start_time": "2022-03-30T13:26:02.807786",
     "status": "completed"
    },
    "tags": []
   },
   "outputs": [
    {
     "name": "stdout",
     "output_type": "stream",
     "text": [
      "Train score: 0.893957 | Validation score: 0.832828\n",
      "Train score: 0.886586 | Validation score: 0.837053\n",
      "Train score: 0.882725 | Validation score: 0.838471\n",
      "Train score: 0.869381 | Validation score: 0.842657\n",
      "Train score: 0.895713 | Validation score: 0.831419\n",
      "Train score: 0.885885 | Validation score: 0.837063\n",
      "Train score: 0.882023 | Validation score: 0.834256\n",
      "Train score: 0.869381 | Validation score: 0.842657\n",
      "Train score: 0.897820 | Validation score: 0.832828\n",
      "Train score: 0.886588 | Validation score: 0.837063\n",
      "Train score: 0.881671 | Validation score: 0.835654\n",
      "Train score: 0.869381 | Validation score: 0.842657\n",
      "Train score: 0.893957 | Validation score: 0.832828\n",
      "Train score: 0.887640 | Validation score: 0.838462\n",
      "Train score: 0.882021 | Validation score: 0.838471\n",
      "Train score: 0.870084 | Validation score: 0.842667\n",
      "Train score: 0.896063 | Validation score: 0.831419\n",
      "Train score: 0.885534 | Validation score: 0.834246\n",
      "Train score: 0.882023 | Validation score: 0.834256\n",
      "Train score: 0.870084 | Validation score: 0.842667\n",
      "Train score: 0.896417 | Validation score: 0.831429\n",
      "Train score: 0.885534 | Validation score: 0.834246\n",
      "Train score: 0.882023 | Validation score: 0.834256\n",
      "Train score: 0.870084 | Validation score: 0.842667\n",
      "Train score: 0.894308 | Validation score: 0.835635\n",
      "Train score: 0.886937 | Validation score: 0.838462\n",
      "Train score: 0.881671 | Validation score: 0.841269\n",
      "Train score: 0.869381 | Validation score: 0.841259\n",
      "Train score: 0.896767 | Validation score: 0.832828\n",
      "Train score: 0.886587 | Validation score: 0.838471\n",
      "Train score: 0.881320 | Validation score: 0.838471\n",
      "Train score: 0.869381 | Validation score: 0.841259\n",
      "Train score: 0.897469 | Validation score: 0.831429\n",
      "Train score: 0.886587 | Validation score: 0.838471\n",
      "Train score: 0.881320 | Validation score: 0.838471\n",
      "Train score: 0.869381 | Validation score: 0.841259\n",
      "Train score: 0.892904 | Validation score: 0.832838\n",
      "Train score: 0.886587 | Validation score: 0.837053\n",
      "Train score: 0.881671 | Validation score: 0.837063\n",
      "Train score: 0.870784 | Validation score: 0.845474\n",
      "Train score: 0.896767 | Validation score: 0.832828\n",
      "Train score: 0.886939 | Validation score: 0.838471\n",
      "Train score: 0.881671 | Validation score: 0.838452\n",
      "Train score: 0.870433 | Validation score: 0.845474\n",
      "Train score: 0.897469 | Validation score: 0.831439\n",
      "Train score: 0.887290 | Validation score: 0.838471\n",
      "Train score: 0.882374 | Validation score: 0.837053\n",
      "Train score: 0.870433 | Validation score: 0.845474\n",
      "Accuracy:  0.8380281690140845 ROC AUC:  0.8698014629049113 \n",
      "Best score:  0.8454742440657934 , with parameters:  {'model__gamma': 0.1, 'model__learning_rate': 0.1, 'model__max_depth': 8, 'model__min_child_weight': 3, 'model__n_estimators': 27}\n"
     ]
    }
   ],
   "source": [
    "grid_params1 = grid_params0.copy()\n",
    "grid_params1.update({\n",
    "    'model__gamma': [0, 0.01, 0.05, 0.1],\n",
    "    'model__max_depth': [8, 10, 12],\n",
    "    'model__min_child_weight': [0.5, 1, 1.5, 3]\n",
    "})\n",
    "\n",
    "grid_params1 = XGB_CVGridSearch(my_pipeline, X_train, y_train, grid_params1, verbose=1, vectorize_output=False)"
   ]
  },
  {
   "cell_type": "code",
   "execution_count": 10,
   "id": "4ab06321",
   "metadata": {
    "execution": {
     "iopub.execute_input": "2022-03-30T13:26:18.464024Z",
     "iopub.status.busy": "2022-03-30T13:26:18.463194Z",
     "iopub.status.idle": "2022-03-30T13:26:18.737157Z",
     "shell.execute_reply": "2022-03-30T13:26:18.736057Z",
     "shell.execute_reply.started": "2022-03-25T14:00:11.88639Z"
    },
    "papermill": {
     "duration": 0.356044,
     "end_time": "2022-03-30T13:26:18.737326",
     "exception": false,
     "start_time": "2022-03-30T13:26:18.381282",
     "status": "completed"
    },
    "tags": []
   },
   "outputs": [
    {
     "name": "stdout",
     "output_type": "stream",
     "text": [
      "Accuracy:  0.7821229050279329\n"
     ]
    }
   ],
   "source": [
    "my_pipeline.set_params(**grid_params1)\n",
    "my_pipeline.fit(X_train, y_train, model__verbose=False)\n",
    "print(\"Accuracy: \", accuracy_score(y_val, my_pipeline.predict(X_val)))"
   ]
  },
  {
   "cell_type": "markdown",
   "id": "92463f39",
   "metadata": {
    "papermill": {
     "duration": 0.040669,
     "end_time": "2022-03-30T13:26:18.847447",
     "exception": false,
     "start_time": "2022-03-30T13:26:18.806778",
     "status": "completed"
    },
    "tags": []
   },
   "source": [
    "<font size=3>Once the model has been trained, we can use a **ROC curve** to select the best general threshold for it based on F1 scores.\n",
    "    \n",
    "<font size=3>The following function iterates through a list of thresholds and returns the one with the highest F1 score."
   ]
  },
  {
   "cell_type": "code",
   "execution_count": 11,
   "id": "e2d7f6b3",
   "metadata": {
    "execution": {
     "iopub.execute_input": "2022-03-30T13:26:18.940269Z",
     "iopub.status.busy": "2022-03-30T13:26:18.938601Z",
     "iopub.status.idle": "2022-03-30T13:26:18.940842Z",
     "shell.execute_reply": "2022-03-30T13:26:18.941284Z",
     "shell.execute_reply.started": "2022-03-25T13:40:32.907133Z"
    },
    "papermill": {
     "duration": 0.052822,
     "end_time": "2022-03-30T13:26:18.941424",
     "exception": false,
     "start_time": "2022-03-30T13:26:18.888602",
     "status": "completed"
    },
    "tags": []
   },
   "outputs": [],
   "source": [
    "from sklearn.metrics import confusion_matrix, f1_score, accuracy_score\n",
    "\n",
    "def GetROCCurve(estimator, X, y_true, thresholds):\n",
    "    tpr, fpr = [], []\n",
    "    best_f1 = 0\n",
    "    final_t = 0\n",
    "    \n",
    "    for t in thresholds:\n",
    "        preds = (estimator.predict_proba(X)[:, 1] >= t) * 1\n",
    "        cm = confusion_matrix(y_true, preds)\n",
    "        tn, fp, fn, tp = cm.flatten()\n",
    "\n",
    "        t_tpr = tp / (tp + fn)\n",
    "        t_fpr = fp / (fp + tn)\n",
    "\n",
    "        tpr.append(t_tpr)\n",
    "        fpr.append(t_fpr)\n",
    "        \n",
    "        f1 = f1_score(y_true, preds)\n",
    "        print('Accuracy: ', accuracy_score(y_true, preds), 'F1: ', f1, 'for threshold:', t)\n",
    "        \n",
    "        if f1 > best_f1:\n",
    "            best_f1 = f1\n",
    "            final_t = t\n",
    "\n",
    "    print('Best threshold: ', final_t)\n",
    "    plt.figure(figsize=(5,5))\n",
    "    plt.suptitle('Roc Curve')\n",
    "    plt.title('Best F1: ' + '{:.6f}'.format(best_f1))\n",
    "    plt.ylabel('TPR')\n",
    "    plt.xlabel('FPR')\n",
    "    plt.plot(fpr, tpr, alpha=0.75)\n",
    "    plt.scatter(fpr, tpr)\n",
    "    \n",
    "    \n",
    "    return best_f1"
   ]
  },
  {
   "cell_type": "code",
   "execution_count": 12,
   "id": "916f86fb",
   "metadata": {
    "execution": {
     "iopub.execute_input": "2022-03-30T13:26:19.033180Z",
     "iopub.status.busy": "2022-03-30T13:26:19.030114Z",
     "iopub.status.idle": "2022-03-30T13:26:19.407379Z",
     "shell.execute_reply": "2022-03-30T13:26:19.407837Z",
     "shell.execute_reply.started": "2022-03-25T13:41:03.80246Z"
    },
    "papermill": {
     "duration": 0.424737,
     "end_time": "2022-03-30T13:26:19.408018",
     "exception": false,
     "start_time": "2022-03-30T13:26:18.983281",
     "status": "completed"
    },
    "tags": []
   },
   "outputs": [
    {
     "name": "stdout",
     "output_type": "stream",
     "text": [
      "Accuracy:  0.3848314606741573 F1:  0.5557809330628803 for threshold: 0\n",
      "Accuracy:  0.7949438202247191 F1:  0.7767584097859327 for threshold: 0.2\n",
      "Accuracy:  0.8412921348314607 F1:  0.8081494057724957 for threshold: 0.3\n",
      "Accuracy:  0.8693820224719101 F1:  0.8312159709618875 for threshold: 0.4\n",
      "Accuracy:  0.8693820224719101 F1:  0.8221797323135756 for threshold: 0.5\n",
      "Accuracy:  0.8525280898876404 F1:  0.7761194029850745 for threshold: 0.6\n",
      "Accuracy:  0.8328651685393258 F1:  0.7301587301587302 for threshold: 0.7\n",
      "Accuracy:  0.8117977528089888 F1:  0.6824644549763034 for threshold: 0.8\n",
      "Accuracy:  0.6151685393258427 F1:  0.0 for threshold: 1\n",
      "Best threshold:  0.4\n"
     ]
    },
    {
     "data": {
      "image/png": "[encoded data removed]",
      "text/plain": [
       "<Figure size 360x360 with 1 Axes>"
      ]
     },
     "metadata": {},
     "output_type": "display_data"
    }
   ],
   "source": [
    "threshs = [0, 0.2, 0.3, 0.4, 0.5, 0.6, 0.7, 0.8, 1]\n",
    "threshold = GetROCCurve(my_pipeline, X_train, y_train, threshs)"
   ]
  },
  {
   "cell_type": "markdown",
   "id": "87762ad7",
   "metadata": {
    "papermill": {
     "duration": 0.042164,
     "end_time": "2022-03-30T13:26:19.493733",
     "exception": false,
     "start_time": "2022-03-30T13:26:19.451569",
     "status": "completed"
    },
    "tags": []
   },
   "source": [
    "## Generating Predictions"
   ]
  },
  {
   "cell_type": "markdown",
   "id": "f1c321b4",
   "metadata": {
    "papermill": {
     "duration": 0.042268,
     "end_time": "2022-03-30T13:26:19.578254",
     "exception": false,
     "start_time": "2022-03-30T13:26:19.535986",
     "status": "completed"
    },
    "tags": []
   },
   "source": [
    "<font size=3>Now that we have all of our parameters set up, we can use the whole dataset for training and finally **generate our predictions** to be submitted."
   ]
  },
  {
   "cell_type": "code",
   "execution_count": 13,
   "id": "e5e8e436",
   "metadata": {
    "execution": {
     "iopub.execute_input": "2022-03-30T13:26:19.675443Z",
     "iopub.status.busy": "2022-03-30T13:26:19.674588Z",
     "iopub.status.idle": "2022-03-30T13:26:19.736695Z",
     "shell.execute_reply": "2022-03-30T13:26:19.737247Z",
     "shell.execute_reply.started": "2022-03-25T14:00:23.47736Z"
    },
    "papermill": {
     "duration": 0.116264,
     "end_time": "2022-03-30T13:26:19.737406",
     "exception": false,
     "start_time": "2022-03-30T13:26:19.621142",
     "status": "completed"
    },
    "tags": []
   },
   "outputs": [
    {
     "data": {
      "text/plain": [
       "Pipeline(steps=[('preprocessor',\n",
       "                 ColumnTransformer(transformers=[('num',\n",
       "                                                  SimpleImputer(fill_value=32.3671875,\n",
       "                                                                strategy='constant'),\n",
       "                                                  <sklearn.compose._column_transformer.make_column_selector object at 0x7f1efb6a6990>),\n",
       "                                                 ('cat',\n",
       "                                                  Pipeline(steps=[('onehot',\n",
       "                                                                   OneHotEncoder()),\n",
       "                                                                  ('imputer',\n",
       "                                                                   SimpleImputer(strategy='most_frequent'))]),\n",
       "                                                  <sklearn.compose._column_transformer...\n",
       "                               importance_type=None, interaction_constraints='',\n",
       "                               learning_rate=0.1, max_delta_step=0, max_depth=8,\n",
       "                               min_child_weight=3, missing=nan,\n",
       "                               monotone_constraints='()', n_estimators=27,\n",
       "                               n_jobs=2, num_parallel_tree=1, predictor='auto',\n",
       "                               random_state=0, reg_alpha=0, reg_lambda=1,\n",
       "                               scale_pos_weight=1, subsample=1,\n",
       "                               tree_method='exact', use_label_encoder=False,\n",
       "                               validate_parameters=1, verbosity=None))])"
      ]
     },
     "execution_count": 13,
     "metadata": {},
     "output_type": "execute_result"
    }
   ],
   "source": [
    "my_pipeline.fit(X, y, model__verbose=False)"
   ]
  },
  {
   "cell_type": "code",
   "execution_count": 14,
   "id": "36d3ad5c",
   "metadata": {
    "execution": {
     "iopub.execute_input": "2022-03-30T13:26:19.831617Z",
     "iopub.status.busy": "2022-03-30T13:26:19.830781Z",
     "iopub.status.idle": "2022-03-30T13:26:19.841259Z",
     "shell.execute_reply": "2022-03-30T13:26:19.840723Z",
     "shell.execute_reply.started": "2022-03-25T13:46:01.471254Z"
    },
    "papermill": {
     "duration": 0.060772,
     "end_time": "2022-03-30T13:26:19.841385",
     "exception": false,
     "start_time": "2022-03-30T13:26:19.780613",
     "status": "completed"
    },
    "tags": []
   },
   "outputs": [
    {
     "data": {
      "text/plain": [
       "array([0, 0, 0, 0, 0, 0, 0, 0, 0, 0, 0, 0, 1, 0, 1, 1, 0, 0, 0, 0])"
      ]
     },
     "execution_count": 14,
     "metadata": {},
     "output_type": "execute_result"
    }
   ],
   "source": [
    "preds = (my_pipeline.predict_proba(X_test)[:, 1] >= threshold) * 1\n",
    "preds[:20]"
   ]
  },
  {
   "cell_type": "code",
   "execution_count": 15,
   "id": "4b0d385e",
   "metadata": {
    "execution": {
     "iopub.execute_input": "2022-03-30T13:26:19.934175Z",
     "iopub.status.busy": "2022-03-30T13:26:19.933406Z",
     "iopub.status.idle": "2022-03-30T13:26:19.938655Z",
     "shell.execute_reply": "2022-03-30T13:26:19.939072Z",
     "shell.execute_reply.started": "2022-03-25T13:36:47.837563Z"
    },
    "papermill": {
     "duration": 0.053672,
     "end_time": "2022-03-30T13:26:19.939215",
     "exception": false,
     "start_time": "2022-03-30T13:26:19.885543",
     "status": "completed"
    },
    "tags": []
   },
   "outputs": [],
   "source": [
    "my_submission = pd.DataFrame({'PassengerId': X_test.index, 'Survived': preds})\n",
    "my_submission.to_csv('submission.csv', index=False)"
   ]
  },
  {
   "cell_type": "code",
   "execution_count": 16,
   "id": "630d43e1",
   "metadata": {
    "execution": {
     "iopub.execute_input": "2022-03-30T13:26:20.034828Z",
     "iopub.status.busy": "2022-03-30T13:26:20.034115Z",
     "iopub.status.idle": "2022-03-30T13:26:20.036709Z",
     "shell.execute_reply": "2022-03-30T13:26:20.037122Z",
     "shell.execute_reply.started": "2022-03-25T13:56:21.151181Z"
    },
    "papermill": {
     "duration": 0.053925,
     "end_time": "2022-03-30T13:26:20.037255",
     "exception": false,
     "start_time": "2022-03-30T13:26:19.983330",
     "status": "completed"
    },
    "tags": []
   },
   "outputs": [
    {
     "data": {
      "text/plain": [
       "Survived\n",
       "0    332\n",
       "1     86\n",
       "dtype: int64"
      ]
     },
     "execution_count": 16,
     "metadata": {},
     "output_type": "execute_result"
    }
   ],
   "source": [
    "my_submission.value_counts(subset='Survived')"
   ]
  }
 ],
 "metadata": {
  "kernelspec": {
   "display_name": "Python 3",
   "language": "python",
   "name": "python3"
  },
  "language_info": {
   "codemirror_mode": {
    "name": "ipython",
    "version": 3
   },
   "file_extension": ".py",
   "mimetype": "text/x-python",
   "name": "python",
   "nbconvert_exporter": "python",
   "pygments_lexer": "ipython3",
   "version": "3.7.12"
  },
  "papermill": {
   "default_parameters": {},
   "duration": 34.732031,
   "end_time": "2022-03-30T13:26:21.291417",
   "environment_variables": {},
   "exception": null,
   "input_path": "__notebook__.ipynb",
   "output_path": "__notebook__.ipynb",
   "parameters": {},
   "start_time": "2022-03-30T13:25:46.559386",
   "version": "2.3.3"
  }
 },
 "nbformat": 4,
 "nbformat_minor": 5
}
